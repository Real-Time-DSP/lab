{
 "cells": [
  {
   "cell_type": "markdown",
   "id": "267e4f8c-85dd-4f36-9ee4-0462952afe5d",
   "metadata": {
    "slideshow": {
     "slide_type": "notes"
    },
    "tags": [
     "remove-nb-cell"
    ]
   },
   "source": [
    "# Lab 3 Primer \n",
    "\n",
    "[Slides](https://real-time-dsp.github.io/lab/lab3/primer.slides.html)\n",
    "\n",
    "Digital filters have several benefits compared to their analog counterparts\n",
    "\n",
    "* Easy to design, redesign, and tune\n",
    "* Exact initial conditions can be enforced\n",
    "* Scale to extremely high order\n",
    "\n",
    "Some applications are, to name just a few,\n",
    "\n",
    "* Digital communications\n",
    "* Speech and audio\n",
    "* Sonar and radar\n",
    "* Medical imaging"
   ]
  },
  {
   "cell_type": "markdown",
   "id": "f0d049e2-deb4-4984-9d0d-70e88ae62947",
   "metadata": {
    "slideshow": {
     "slide_type": "slide"
    },
    "tags": []
   },
   "source": [
    "## Review of LTI systems and filters\n",
    "\n",
    "* [Mathematical definitions](https://realtimedsp.net/handouts/LTI_systems_filters.html#mathematical-definitions)\n",
    "* [Impulse response and convolution](https://realtimedsp.net/handouts/LTI_systems_filters.html#impulse-response-and-convolution)\n",
    "* [Frequency response](https://realtimedsp.net/handouts/LTI_systems_filters.html#frequency-response)\n",
    "* [Magnitude and phase response](https://realtimedsp.net/handouts/LTI_systems_filters.html#magnitude-and-phase-response)\n",
    "* [Frequency Selectivity](https://realtimedsp.net/handouts/LTI_systems_filters.html#frequency-selectivity)"
   ]
  },
  {
   "cell_type": "markdown",
   "id": "a782bb6e-a8c3-46ae-95a4-803612f0d0d9",
   "metadata": {
    "slideshow": {
     "slide_type": "slide"
    },
    "tags": []
   },
   "source": [
    "## Finite impulse response (FIR) filters\n",
    "\n",
    "For a causal discrete-time FIR filter, each output sample $y[n]$ is computed by taking the inner product of the input samples $x[n]$ with the filter coefficients $b[n]$.\n",
    "\n",
    "$$ y[n] = \\sum_{m=0}^{N}{x[n-m]b[m]} $$\n",
    "\n",
    "This is often visualized as a 'tapped delay line'"
   ]
  },
  {
   "cell_type": "markdown",
   "id": "8b483fa7-c593-4ace-b5c4-94c20c898c19",
   "metadata": {
    "slideshow": {
     "slide_type": "slide"
    },
    "tags": [
     "remove-nb-cell"
    ]
   },
   "source": [
    "![](../img/tapped_delay.svg)"
   ]
  },
  {
   "cell_type": "markdown",
   "id": "399ac7b6-8345-477e-a312-384c2ed32661",
   "metadata": {
    "slideshow": {
     "slide_type": "slide"
    },
    "tags": [
     "remove-cell"
    ]
   },
   "source": [
    "<p style=\"text-align:center;\">\n",
    "<img src=\"../_images/tapped_delay.svg\" width=900 height=900 class=\"center\">\n",
    "</p>"
   ]
  },
  {
   "cell_type": "markdown",
   "id": "dd6ccfdb-12f6-42b3-9504-caea3826cc73",
   "metadata": {
    "slideshow": {
     "slide_type": "slide"
    },
    "tags": []
   },
   "source": [
    "## FIR filter design\n",
    "\n",
    "For typical frequency selective filters, the design goals are threefold\n",
    "\n",
    "* Minimize distortion of the signal in the passband(s)\n",
    "* Attenuate the stopband as much as possible\n",
    "* Keep the order of the filter low\n",
    "\n",
    "The [Parks-McClellan algorithm](https://en.wikipedia.org/wiki/Parks–McClellan_filter_design_algorithm) (aka equiripple) will create the optimal set of filter coefficients for an arbitrary filter shape using these basic design goals."
   ]
  },
  {
   "cell_type": "markdown",
   "id": "beabd09b-9a6b-414f-9015-6aef9e2d8477",
   "metadata": {
    "slideshow": {
     "slide_type": "slide"
    },
    "tags": [
     "remove-nb-cell"
    ]
   },
   "source": [
    "![](../img/bandpass.svg)"
   ]
  },
  {
   "cell_type": "markdown",
   "id": "a3b745ec-b537-4918-baad-ca4f5392dfee",
   "metadata": {
    "slideshow": {
     "slide_type": "slide"
    },
    "tags": [
     "remove-cell"
    ]
   },
   "source": [
    "<p style=\"text-align:center;\">\n",
    "<img src=\"../_images/bandpass.svg\" width=900 height=900 class=\"center\">\n",
    "</p>"
   ]
  },
  {
   "cell_type": "markdown",
   "id": "8e78abbb-2b82-4d8e-9362-a1167aea6937",
   "metadata": {
    "slideshow": {
     "slide_type": "slide"
    },
    "tags": [
     "remove-cell"
    ]
   },
   "source": [
    "# Week 2"
   ]
  }
 ],
 "metadata": {
  "kernelspec": {
   "display_name": "Python 3 (ipykernel)",
   "language": "python",
   "name": "python3"
  },
  "language_info": {
   "codemirror_mode": {
    "name": "ipython",
    "version": 3
   },
   "file_extension": ".py",
   "mimetype": "text/x-python",
   "name": "python",
   "nbconvert_exporter": "python",
   "pygments_lexer": "ipython3",
   "version": "3.10.2"
  }
 },
 "nbformat": 4,
 "nbformat_minor": 5
}
