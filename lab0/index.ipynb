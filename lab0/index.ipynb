{
 "cells": [
  {
   "cell_type": "markdown",
   "id": "267e4f8c-85dd-4f36-9ee4-0462952afe5d",
   "metadata": {
    "slideshow": {
     "slide_type": "notes"
    },
    "tags": [
     "remove-nb-cell"
    ]
   },
   "source": [
    "# Lab 0. Review of Prerequisites (Optional)\n",
    "\n",
    "[Slides](https://real-time-dsp.github.io/lab/lab0/index.slides.html)\n",
    "\n",
    "There are several topics from software design, embedded systems, and linear systems that we will review before building upon in subsequent labs. Additionally, we will review the basics of MATLAB and C programming.\n",
    "\n",
    "***Attendance for Lab 0 is optional. There are no graded assignments associated with lab #0.***\n",
    "\n",
    "For lab #0 only, you may attend remotely through zoom. All other labs require in-person attendance for access to the hardware.\n",
    "\n",
    "Attending lab #0 in person will allow you to access the hardware to get a head start on lab #1."
   ]
  },
  {
   "cell_type": "markdown",
   "id": "c0e072a5-d669-4465-9a53-03cf7f807acd",
   "metadata": {
    "slideshow": {
     "slide_type": "slide"
    },
    "tags": [
     "remove-cell"
    ]
   },
   "source": [
    "<center> <h1>\n",
    "ECE 445S Laboratory: Week 1\n",
    "</h1> </center>"
   ]
  },
  {
   "cell_type": "markdown",
   "id": "f0d049e2-deb4-4984-9d0d-70e88ae62947",
   "metadata": {
    "slideshow": {
     "slide_type": "slide"
    },
    "tags": []
   },
   "source": [
    "## Hardware Overview"
   ]
  },
  {
   "cell_type": "markdown",
   "id": "56069e6b-04e0-4008-a527-f94e5e2be828",
   "metadata": {
    "slideshow": {
     "slide_type": "slide"
    },
    "tags": []
   },
   "source": [
    "## C Programming"
   ]
  },
  {
   "cell_type": "markdown",
   "id": "6f2809fe-8bef-47ac-88e7-f81bc466bbea",
   "metadata": {
    "slideshow": {
     "slide_type": "slide"
    },
    "tags": []
   },
   "source": [
    "## MATLAB"
   ]
  },
  {
   "cell_type": "markdown",
   "id": "9f4fdcbc-1cb5-4ae7-9eeb-355bd906878c",
   "metadata": {
    "slideshow": {
     "slide_type": "slide"
    },
    "tags": []
   },
   "source": [
    "## Linear Systems and Signals"
   ]
  }
 ],
 "metadata": {
  "kernelspec": {
   "display_name": "Python 3 (ipykernel)",
   "language": "python",
   "name": "python3"
  },
  "language_info": {
   "codemirror_mode": {
    "name": "ipython",
    "version": 3
   },
   "file_extension": ".py",
   "mimetype": "text/x-python",
   "name": "python",
   "nbconvert_exporter": "python",
   "pygments_lexer": "ipython3",
   "version": "3.10.1"
  }
 },
 "nbformat": 4,
 "nbformat_minor": 5
}
