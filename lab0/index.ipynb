{
 "cells": [
  {
   "cell_type": "markdown",
   "id": "267e4f8c-85dd-4f36-9ee4-0462952afe5d",
   "metadata": {
    "slideshow": {
     "slide_type": "notes"
    },
    "tags": [
     "remove-nb-cell"
    ]
   },
   "source": [
    "# Lab 0. Review of Prerequisites (Optional)\n",
    "\n",
    "[Slides](https://real-time-dsp.github.io/lab/lab0/index.slides.html)\n",
    "\n",
    "There are several topics from software design, embedded systems, and linear systems that we will review before building upon in subsequent labs. Additionally, we will review the basics of MATLAB and C programming.\n",
    "\n",
    "***Attendance for Lab 0 is optional. There are no graded assignments associated with lab #0.***\n",
    "\n",
    "For lab #0 only, you may attend remotely through zoom. All other labs require in-person attendance for access to the hardware.\n",
    "\n",
    "Attending lab #0 in person will allow you to access the hardware to get a head start on lab #1."
   ]
  },
  {
   "cell_type": "markdown",
   "id": "c0e072a5-d669-4465-9a53-03cf7f807acd",
   "metadata": {
    "slideshow": {
     "slide_type": "slide"
    },
    "tags": [
     "remove-cell"
    ]
   },
   "source": [
    "<center> <h1>\n",
    "ECE 445S Laboratory: Week 1\n",
    "</h1> </center>"
   ]
  },
  {
   "cell_type": "markdown",
   "id": "f0d049e2-deb4-4984-9d0d-70e88ae62947",
   "metadata": {
    "slideshow": {
     "slide_type": "slide"
    },
    "tags": [
     "remove-nb-cell"
    ]
   },
   "source": [
    "## Hardware Overview"
   ]
  },
  {
   "cell_type": "markdown",
   "id": "365f321e-2002-49ae-aed1-c26ebd772329",
   "metadata": {
    "slideshow": {
     "slide_type": "slide"
    },
    "tags": [
     "remove-cell"
    ]
   },
   "source": [
    "<center> <h3>\n",
    "Hardware Overview\n",
    "</h3> </center>"
   ]
  },
  {
   "cell_type": "markdown",
   "id": "a9c4898f-e729-4559-9345-06f696d838d1",
   "metadata": {
    "tags": [
     "remove-nb-cell"
    ]
   },
   "source": [
    "![](../img/hardware.svg)"
   ]
  },
  {
   "cell_type": "markdown",
   "id": "a2893bab-5ab8-4f10-b088-18b790fec547",
   "metadata": {
    "tags": [
     "remove-cell"
    ]
   },
   "source": [
    "<p style=\"text-align:center;\">\n",
    "<img src=\"../_images/hardware.svg\" width=550 height=550 class=\"center\">\n",
    "</p>"
   ]
  },
  {
   "cell_type": "markdown",
   "id": "56069e6b-04e0-4008-a527-f94e5e2be828",
   "metadata": {
    "slideshow": {
     "slide_type": "slide"
    },
    "tags": []
   },
   "source": [
    "## C Programming"
   ]
  },
  {
   "cell_type": "markdown",
   "id": "3281cd4f-a8ec-4d3a-8e17-e4006d5c1a33",
   "metadata": {
    "tags": [
     "remove-cell"
    ]
   },
   "source": [
    "* Data types\n",
    "* Pointers\n",
    "* Functions\n",
    "* Arrays\n",
    "* For loops"
   ]
  },
  {
   "cell_type": "markdown",
   "id": "9f72b07b-5413-4fae-88c9-aafd62d022ea",
   "metadata": {
    "slideshow": {
     "slide_type": "slide"
    },
    "tags": []
   },
   "source": [
    "### Data Types\n",
    "\n",
    "* C language does not provide exact rules for data types\n",
    "  * Example: `int`\n",
    "    * Must be at least 16 bits, but can be larger\n",
    "    * Must include the range [−32,767, +32,767]. Often, -32,768 is included as well.\n",
    "* Toolchain used in lab provides exact specifications for data types\n",
    "  * `int16_t` 16-bit signed integer\n",
    "  * `uint32_t` 32 bit unsigned integer\n",
    "  * `float32_t` 32 bit (single precision) floating point  "
   ]
  },
  {
   "cell_type": "markdown",
   "id": "4464cdd1-396a-4cf8-b931-b2610cd886a5",
   "metadata": {
    "slideshow": {
     "slide_type": "slide"
    },
    "tags": []
   },
   "source": [
    "### Pointers and functions\n",
    "\n",
    "Example: measuring clock cycles\n",
    "\n",
    "```c\n",
    "uint32_t* systick = (uint32_t*) 0xe000e018;\n",
    "void tic(void)\n",
    "{\n",
    "\tt = *systick;\n",
    "}\n",
    "uint32_t toc(void)\n",
    "{\n",
    "\treturn t - *systick;\n",
    "}\n",
    "```"
   ]
  },
  {
   "cell_type": "markdown",
   "id": "296a103d-eb47-4f34-8e59-ab1610d560d2",
   "metadata": {
    "slideshow": {
     "slide_type": "slide"
    },
    "tags": []
   },
   "source": [
    "### Arrays and for loops\n",
    "\n",
    "* Example: cosine lookup table\n",
    "\n",
    "```\n",
    "int16_t table[16];\n",
    "float32_t amplitude;\n",
    "flat32_t omega0 = 0.0576;\n",
    "\n",
    "for (uint32_t n = 0; n < 16; n+=1)\n",
    "{\n",
    "    amplitude = arm_sin_f32(n * omega0);\n",
    "    table[n] = OUTPUT_SCALE_FACTOR * amplitude;\n",
    "}\n",
    "```"
   ]
  },
  {
   "cell_type": "markdown",
   "id": "9e1053b8-066b-4329-ad08-1172599154af",
   "metadata": {
    "slideshow": {
     "slide_type": "slide"
    },
    "tags": []
   },
   "source": [
    "### Linear vs circular buffer\n",
    "\n",
    "Example: Shift all elements of an $N=16$ element array and add a new element to the start.\n",
    "\n",
    "#### Linear buffer\n",
    "```c\n",
    "float32_t x[16] = {0};\n",
    "     .\n",
    "     .\n",
    "     .\n",
    "void linear_buffer_shift(float32_t new_element)\n",
    "{\n",
    "    for (uint32_t n = 15; n >0; n-=1)\n",
    "    {\n",
    "        x[n] = x[n-1];\n",
    "    }\n",
    "    x[0] = new_element;\n",
    "}\n",
    "```"
   ]
  },
  {
   "cell_type": "markdown",
   "id": "21329de2-51f4-4ace-8829-c72e55dc7d74",
   "metadata": {
    "slideshow": {
     "slide_type": "slide"
    },
    "tags": [
     "remove-cell"
    ]
   },
   "source": [
    "### Linear vs circular buffer\n",
    "\n",
    "Example: Shift all elements of an $N=16$ element array and add a new element to the start."
   ]
  },
  {
   "cell_type": "markdown",
   "id": "1a478ad3-1389-4f3d-818c-88eac9976a7c",
   "metadata": {},
   "source": [
    "#### Circular buffer\n",
    "```c\n",
    "float32_t x[16] = {0};\n",
    "int32_t position = 0;\n",
    "     .\n",
    "     .\n",
    "     .\n",
    "void circular_buffer_shift(float32_t new_element)\n",
    "{\n",
    "    position = (position-1) % 16\n",
    "    x[position] = new_element\n",
    "}\n",
    "```"
   ]
  },
  {
   "cell_type": "markdown",
   "id": "6f2809fe-8bef-47ac-88e7-f81bc466bbea",
   "metadata": {
    "slideshow": {
     "slide_type": "slide"
    },
    "tags": []
   },
   "source": [
    "## MATLAB"
   ]
  },
  {
   "cell_type": "markdown",
   "id": "49575a05-69ac-43d7-88da-38faa801c030",
   "metadata": {
    "slideshow": {
     "slide_type": "slide"
    },
    "tags": []
   },
   "source": [
    "### Data Types in MATLAB\n",
    "\n",
    "* By default, every variable in MATLAB is a 2d array of double precision floating point values\n",
    "* To use another datatype, call the corresponding function (`single()`, `int16()`, `uint32()`, etc)\n",
    "* View the size and type of variables using the `whos()` function\n",
    "* By default `i` and `j` represent $\\sqrt{(-1)}$. Be careful naming variables that overwrite these!\n",
    "* Data automatically become complex if any multiple of `j` is added, e.g. `1-3j`"
   ]
  },
  {
   "cell_type": "markdown",
   "id": "fa032280-3906-4a8c-bc28-4b4d44cca04c",
   "metadata": {
    "slideshow": {
     "slide_type": "slide"
    },
    "tags": []
   },
   "source": [
    "### Vector and array operations\n",
    "* You can use for loops to perform vector and array operations\n",
    "* Most of the time, there is an easier and more computationally efficient way\n",
    "\n",
    "```matlab\n",
    "A = [1,2,3\n",
    "     4,5,6];\n",
    "B = [7,8,9\n",
    "     3,2,1];\n",
    "```\n",
    "\n",
    "Element-wise product of two matrices using for loops\n",
    "\n",
    "```matlab\n",
    "for i_row = 1:2\n",
    "    for i_col = 1:3\n",
    "        C(i_row,i_col) = A(i_row,i_col) * B(i_row,i_col);\n",
    "    end\n",
    "end\n",
    "```"
   ]
  },
  {
   "cell_type": "markdown",
   "id": "809c501a-c8d6-4566-8bdd-80155e01e311",
   "metadata": {
    "slideshow": {
     "slide_type": "slide"
    },
    "tags": [
     "remove-cell"
    ]
   },
   "source": [
    "### Vector and array operations"
   ]
  },
  {
   "cell_type": "markdown",
   "id": "b3e3c5f1-aaec-40dd-b82b-fb172fcedd6d",
   "metadata": {},
   "source": [
    "```matlab\n",
    "A = [1,2,3\n",
    "     4,5,6];\n",
    "B = [7,8,9\n",
    "     3,2,1];\n",
    "```\n",
    "\n",
    "element-wise product of two matrices using `.*` operator\n",
    "\n",
    "```matlab\n",
    "C = A .* B;\n",
    "```\n",
    "\n",
    "Matrix-matrix product using `*` operator and `'` for transpose.\n",
    "\n",
    "```matlab\n",
    "C = A * B';\n",
    "```"
   ]
  },
  {
   "cell_type": "markdown",
   "id": "33a3a4d1-8da1-47a4-8e21-6da6ab1be407",
   "metadata": {
    "slideshow": {
     "slide_type": "slide"
    },
    "tags": []
   },
   "source": [
    "### Creating plots\n",
    "\n",
    "* To describe your plot to MATLAB, give the `plot()` function the (x,y) coordinates of each point you want to plot\n",
    "* Put all of the x coordinates in a vector and the y coordinates in a second vector\n",
    "* Use `plot(x,y)` to represent continuous signals\n",
    "* Use `stem(x,y)` to represent discrete signals\n",
    "* Call the `figure()` function before a plot to put it in a new window\n",
    "* Use `hold on;` to overlay on the previous plot\n",
    "* Use the incantation `set(0,'DefaultFigureWindowStyle','Docked')` to keep all figures in the same window but make an new tab for each"
   ]
  },
  {
   "cell_type": "markdown",
   "id": "7eec5eb2-3225-4760-924d-fd1c0e128a90",
   "metadata": {
    "slideshow": {
     "slide_type": "slide"
    },
    "tags": []
   },
   "source": [
    "## Floating point\n",
    "\n",
    "* Integer and other fixed-point data types have the same spacing between all possible values\n",
    "  * Useful for representing natural numbers or the value read from ADC\n",
    "* Distance between adjacent floating point numbers is variable\n",
    "  * Useful for representing filter coefficients\n",
    "  * Less build up of error for sequences of operations compared to fixed point\n",
    "* Single precision (near 1.0) is roughly equivalent to 8 decimal points\n",
    "  * Largest possible value is about $3.4 \\times 10^{38}$\n",
    "  * Near zero, the smallest distance between values is about $1.4\\times 10^{-45}$"
   ]
  },
  {
   "cell_type": "markdown",
   "id": "9f4fdcbc-1cb5-4ae7-9eeb-355bd906878c",
   "metadata": {
    "slideshow": {
     "slide_type": "slide"
    },
    "tags": []
   },
   "source": [
    "## Linear Systems and Signals"
   ]
  },
  {
   "cell_type": "markdown",
   "id": "5f547783-fa02-420e-929a-05222714b03a",
   "metadata": {},
   "source": [
    "### Sampling and Reconstruction\n",
    "\n",
    "* Sampling\n",
    "  * Continuous-time to discrete-time\n",
    "  * $x[n] = x(n T_s)$\n",
    "* Reconstruction\n",
    "  * Discrete-time to Continuous-time\n",
    "  * A continuous-time signal $x(t)$ with frequencies no higher than $f_{\\text{max}}$ can be reconstructed exactly from its samples $x[n] = x(n T_s)$ if samples are taken at a sampling rate $f_s > 2f_{\\text{max}}$"
   ]
  },
  {
   "cell_type": "markdown",
   "id": "6d5d7fba-e0e6-44a8-94bc-1861ddc00c42",
   "metadata": {
    "tags": [
     "remove-nb-cell"
    ]
   },
   "source": [
    "![](../img/sampling_reconstruction.svg)"
   ]
  },
  {
   "cell_type": "markdown",
   "id": "4cd8eae6-2024-47c7-8973-e2d036e61efd",
   "metadata": {
    "tags": [
     "remove-cell"
    ]
   },
   "source": [
    "<p style=\"text-align:center;\">\n",
    "<img src=\"../_images/sampling_reconstruction.svg\" width=550 height=550 class=\"center\">\n",
    "</p>"
   ]
  },
  {
   "cell_type": "markdown",
   "id": "95e9cf64-5b30-440c-ac85-01e555426406",
   "metadata": {
    "slideshow": {
     "slide_type": "slide"
    },
    "tags": []
   },
   "source": [
    "### Transforms\n",
    "\n",
    "Preview of the different transforms we will use in this class:\n",
    "\n",
    "* Laplace transform\n",
    "* Z-transform\n",
    "* Fourier transform\n",
    "* Discrete-time Fourier transform (DTFT)\n",
    "* Fourier series\n",
    "* Discrete Fourier transform (DFT, a.k.a FFT)\n",
    "\n",
    "All of these have certain properties in common (with a few caveats)\n",
    "* $ \\text{Multiplication} \\leftrightarrow \\text{Convolution} $\n",
    "* $ \\text{Stretch} \\leftrightarrow  \\text{Contract}$"
   ]
  },
  {
   "cell_type": "markdown",
   "id": "32e59fee-6392-4154-873b-56fab88e320c",
   "metadata": {
    "slideshow": {
     "slide_type": "slide"
    },
    "tags": [
     "remove-cell"
    ]
   },
   "source": [
    "### Transforms\n",
    "<p style=\"text-align:center;\">\n",
    "<img src=\"../_images/transforms.svg\" width=550 height=550 class=\"center\">\n",
    "</p>"
   ]
  },
  {
   "cell_type": "markdown",
   "id": "a1b23f1f-fd50-4ad7-96a2-4b39f3b0317c",
   "metadata": {
    "tags": [
     "remove-nb-cell"
    ]
   },
   "source": [
    "![](../img/transforms.svg)"
   ]
  },
  {
   "cell_type": "markdown",
   "id": "588f73dc-1d11-4314-99b5-214baafeeecc",
   "metadata": {
    "slideshow": {
     "slide_type": "slide"
    },
    "tags": []
   },
   "source": [
    "### Fourier transform example\n",
    "\n",
    "What is the fourier transform of $ x(t) = \\left(1+\\cos(2\\pi t)\\right) \\left( \\text{rect}(t) \\right)$ ?"
   ]
  },
  {
   "cell_type": "markdown",
   "id": "be0287ac-b4fe-4ad8-92ae-e45908c1c4a9",
   "metadata": {
    "tags": [
     "remove-nb-cell"
    ]
   },
   "source": [
    "![](../img/FT_example.svg)"
   ]
  },
  {
   "cell_type": "markdown",
   "id": "858f69bb-c30a-4be9-bf45-7c0e210e366d",
   "metadata": {
    "tags": [
     "remove-cell"
    ]
   },
   "source": [
    "<p style=\"text-align:center;\">\n",
    "<img src=\"../_images/FT_example.svg\" width=550 height=550 class=\"center\">\n",
    "</p>"
   ]
  },
  {
   "cell_type": "markdown",
   "id": "16ec91ef-8e5f-4c66-869b-72ca7aeefe7b",
   "metadata": {
    "slideshow": {
     "slide_type": "slide"
    },
    "tags": [
     "remove-cell"
    ]
   },
   "source": [
    "### Fourier transform example"
   ]
  },
  {
   "cell_type": "markdown",
   "id": "b0b53f4d-7214-4390-917a-2309f050e736",
   "metadata": {},
   "source": [
    "[Table of known fourier transforms and fourier transform properties. The left column is in Hertz and the right column is in radians per second.](https://en.wikipedia.org/wiki/Fourier_transform#Tables_of_important_Fourier_transforms)\n",
    "\n",
    "* The Fourier transform of a constant $1$ is  $\\delta(f)$.\n",
    "\n",
    "* The Fourier transform of $ \\cos(at) $ is $\\frac{1}{2}\\left[ \\delta(f-\\frac{a}{2\\pi}) + \\delta(f+\\frac{a}{2\\pi}) \\right]$\n",
    "\n",
    "* The Fourier transform of $ \\text{rect} (t) $ is $\\text{sinc}(f)=\\frac{\\sin(\\pi f)}{\\pi f}$\n",
    "\n",
    "* Multiplication in time domain is convolution in frequency domain\n",
    "\n",
    "* Sifting property: $f(t) * \\delta(t-t_0) = f(t-t_0)$"
   ]
  },
  {
   "cell_type": "markdown",
   "id": "e4569bbe-6278-4329-81e4-19207ca2ebf9",
   "metadata": {
    "slideshow": {
     "slide_type": "slide"
    },
    "tags": [
     "remove-cell"
    ]
   },
   "source": [
    "### Fourier transform example"
   ]
  },
  {
   "cell_type": "markdown",
   "id": "1a51597b-bbbe-4742-b96f-49759839592e",
   "metadata": {},
   "source": [
    "$$\\begin{align}\n",
    "X(f) = \\mathscr F \\{ x(t) \\} &= \\mathscr F \\{ 1+ \\cos(2\\pi t)\\} * \\mathscr F \\{ \\text{rect}(t)\\} \\\\\n",
    "&= \\left[\\frac 1 2 \\delta(f-1) + \\delta(f) + \\frac 1 2 \\delta(f+1) \\right] * \\text{sinc}(f) \\\\\n",
    "&= \\frac 1 2 sinc(f-1) + sinc(f) + \\frac 1 2 sinc(f+1)\n",
    "\\end{align}$$ "
   ]
  },
  {
   "cell_type": "markdown",
   "id": "d0e77adb-1b00-43b4-94a5-cd8dccba8950",
   "metadata": {
    "tags": [
     "remove-nb-cell"
    ]
   },
   "source": [
    "![](../img/FT_example2.svg)"
   ]
  },
  {
   "cell_type": "markdown",
   "id": "2cd98f95-24e3-4674-8825-4629246d70ce",
   "metadata": {
    "tags": [
     "remove-cell"
    ]
   },
   "source": [
    "<p style=\"text-align:center;\">\n",
    "<img src=\"../_images/FT_example2.svg\" width=550 height=550 class=\"center\">\n",
    "</p>"
   ]
  }
 ],
 "metadata": {
  "kernelspec": {
   "display_name": "Python 3 (ipykernel)",
   "language": "python",
   "name": "python3"
  },
  "language_info": {
   "codemirror_mode": {
    "name": "ipython",
    "version": 3
   },
   "file_extension": ".py",
   "mimetype": "text/x-python",
   "name": "python",
   "nbconvert_exporter": "python",
   "pygments_lexer": "ipython3",
   "version": "3.10.2"
  }
 },
 "nbformat": 4,
 "nbformat_minor": 5
}
