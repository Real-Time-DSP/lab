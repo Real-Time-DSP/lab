{
 "cells": [
  {
   "cell_type": "markdown",
   "id": "267e4f8c-85dd-4f36-9ee4-0462952afe5d",
   "metadata": {
    "slideshow": {
     "slide_type": "notes"
    },
    "tags": []
   },
   "source": [
    "# Lab 2 Primer \n",
    "\n",
    "[Slides](https://real-time-dsp.github.io/lab/lab2/primer.slides.html)\n",
    "\n",
    "Sinusoidal generation is a microcosm of real-time DSP systems. Although simple, this task demonstrates many important elements:\n",
    "\n",
    "* Availability of several algorithms, providing trade offs between runtime implementation complexity and signal quality\n",
    "* Option to utilize polling, interrupts, or direct memory access (DMA)\n",
    "* Utilization of floating point computation and conversion\n",
    "* Utilization of a digital-to-analog converter\n",
    "* Presence of artifacts due to sampling and quantization"
   ]
  },
  {
   "cell_type": "markdown",
   "id": "f0d049e2-deb4-4984-9d0d-70e88ae62947",
   "metadata": {
    "slideshow": {
     "slide_type": "slide"
    },
    "tags": []
   },
   "source": [
    "## Methods for sinusoidal generation\n",
    "\n",
    "Given some desired frequency $f_0$, we want to generate a causal sinusoid\n",
    "\n",
    "$$x(t) = u(t) \\cos (2\\pi f_0 t)$$\n",
    "\n",
    "by sending the discrete signal $x[n] = u[n] \\cos \\left( 2\\pi \\frac{f_0}{f_s} n \\right)$ to a digital-to-analog converter (DAC).\n",
    "\n",
    "We'll consider four methods to generate this signal:\n",
    "\n",
    "* Polynomial approximation (GNU math library)\n",
    "* Difference equation\n",
    "* Direct Lookup table\n",
    "* Lookup table with interpolation (ARM DSP math library)"
   ]
  },
  {
   "cell_type": "markdown",
   "id": "a782bb6e-a8c3-46ae-95a4-803612f0d0d9",
   "metadata": {
    "slideshow": {
     "slide_type": "slide"
    },
    "tags": []
   },
   "source": [
    "### Polynomial approximation (GNU math library)\n",
    "\n",
    "When the `cos` function of math.h is invoked, the implementation is system dependent. However, a typical algorithm is to use a polynomial approximation\n",
    "\n",
    "$$ \\cos(t) \\approx a_0 + a_1 x + a_2 x^2 + a_3 x^3 \\cdots$$\n",
    "\n",
    "This is the approach used by the [GNU scientific library](https://www.gnu.org/software/gsl)) which stores the first 11 coefficients of the approximation.\n",
    "\n",
    "Horner's form is used to minimize the number of operations required\n",
    "\n",
    "$$ a_{10} x^{10} + a_9 x^9 + a_8 x^8 + \\dots + a_0 $$\n",
    "\n",
    "$$ = ( \\dots (((a_{10} x + a_9) x + a_8) x \\dots ) + a_0 $$"
   ]
  },
  {
   "cell_type": "markdown",
   "id": "7df1bb19-147d-48c0-861c-4d05b934504f",
   "metadata": {
    "slideshow": {
     "slide_type": "slide"
    },
    "tags": []
   },
   "source": [
    "To generate a sinusoid of frequency $f_0$, need only repeat a few steps for each sample\n",
    "\n",
    "1. Calculate $\\cos(\\theta)$ via the approximation above and send the value to the DAC\n",
    "2. Increment $\\theta$ by $\\omega_0 = 2\\pi \\frac{f_0}{f_s}$\n",
    "3. Check if $\\theta$ exceeds $2\\pi$. If it does, subtract $2\\pi$ to prevent overflow or loss of precision. \n",
    "\n",
    "This method produces a very accurate signal, but requires roughly 20 multiplications and 20 additions per sample in addition to the storage of the coefficients.\n",
    "\n",
    "It is also extremely flexible, since it allows us to change the frequency as we please by simply changing the the amount at which we increment $\\theta$."
   ]
  },
  {
   "cell_type": "markdown",
   "id": "dd6ccfdb-12f6-42b3-9504-caea3826cc73",
   "metadata": {
    "slideshow": {
     "slide_type": "slide"
    },
    "tags": []
   },
   "source": [
    "### Difference equation\n",
    "\n",
    "Consider the discrete-time linear time-invariant system governed by the difference equation\n",
    "\n",
    "$$ y[n] = (2 \\cos \\omega_0) y[n-1] - y[n-2] + (\\sin \\omega_0) x[n-1]) $$\n",
    "\n",
    "This system is particularly interesting when we consider it's stability. It is on the margin of being bounded-input bounded-output stable, but is technically unstable.\n",
    "\n",
    "If the system were stable, then the output would eventually decay when excited by an impulse.\n",
    "\n",
    "For many unstable systems, excitation by an impulse would cause the output to explode to $\\pm \\infty$.\n",
    "\n",
    "However, the impulse response of this particular system is a constant amplitude causal sinusoid, motivating another method for generating a sinusoid:"
   ]
  },
  {
   "cell_type": "markdown",
   "id": "c842262c-7c19-43b7-8712-6d569cb12c6b",
   "metadata": {
    "slideshow": {
     "slide_type": "slide"
    },
    "tags": []
   },
   "source": [
    "1. Set the initial conditions to zero and apply a discrete-time impulse as the input.\n",
    "2. Compute the output $y[n]$ using the difference equation above.\n",
    "3. Update the variables corresponding to $y[n-1]$ and $y[n-2]$.\n",
    "4. Repeat from step 2.\n",
    "\n",
    "This method requires only 2 multiplications and 3 additions per sample and the amount of computation per sample is independent from the desired frequency $f_0$ and the sampling rate $f_s$."
   ]
  },
  {
   "cell_type": "markdown",
   "id": "8e78abbb-2b82-4d8e-9362-a1167aea6937",
   "metadata": {
    "slideshow": {
     "slide_type": "slide"
    },
    "tags": []
   },
   "source": [
    "# Week 2"
   ]
  },
  {
   "cell_type": "markdown",
   "id": "a281fd68-7e0e-4b0f-a788-a51276f7e491",
   "metadata": {
    "slideshow": {
     "slide_type": "slide"
    },
    "tags": []
   },
   "source": [
    "### Lookup table\n",
    "\n",
    "$\\cos (2\\pi f_0 t)$ is a periodic signal with fundamental period $T_0 = 1/f_0$\n",
    "\n",
    "If the ratio $f_0 / f_s$ is a rational number, then $\\cos \\left( 2\\pi \\frac{f_0}{f_s} n \\right)$ is also period with fundamental period\n",
    "\n",
    "$$L=\\frac{f_s}{\\text{gcd}(f_0,f_s)} \\text{samples}$$\n",
    "\n",
    "This means that we can compute the first $L$ values of the sinusoid ahead of time with arbitrary precision and store them in a lookup table. At runtime, we need only increment the current index and no additional computation is required."
   ]
  },
  {
   "cell_type": "markdown",
   "id": "5f9a7f7a-9576-4f81-9aec-3b0c35427ead",
   "metadata": {
    "slideshow": {
     "slide_type": "slide"
    },
    "tags": []
   },
   "source": [
    "### Lookup table with interpolation (ARM DSP library)\n",
    "\n",
    "The ['arm_cos_f32' function from the CMSIS DSP library](https://arm-software.github.io/CMSIS_5/DSP/html/group__cos.html) stores a 512 element lookup table regardless of the desired frequency and sampling rate. Like the GNU math library, the function takes a phase as input (in radians), and returns the value of the cosine with that phase using three steps:\n",
    "\n",
    "1. Find the integer table index $i$ which is nearest to the desired phase\n",
    "2. Compute the fractional portion $p$ of the table index.\n",
    "3. Return $(1.0-p) \\cdot \\text{table}[i] + p \\cdot \\text{table}[i+1]$;\n",
    "\n",
    "This method requires more memory than the GNU math library but fewer multiply and addition operations.\n",
    "\n",
    "Since this method always uses the same amount of memory for the lookup table (512 words), it might be preferred to the direct lookup table method if $L$ is large."
   ]
  },
  {
   "cell_type": "markdown",
   "id": "f4aa676f-b4aa-400c-9812-204ff3deff40",
   "metadata": {
    "slideshow": {
     "slide_type": "slide"
    },
    "tags": []
   },
   "source": [
    "## Direct memory access and frame-based processing.\n",
    "\n",
    "Data is constantly flowing from ADC to main memory and from main memory to DAC. We could move the data using load/store operations, but this would use CPU cycles.\n",
    "\n",
    "Instead, we can offload this process to a direct memory access (DMA) controller. As samples are generated from an input device (such as an ADC), the DMA controller automatically populates a buffer in CPU addressable memory space.\n",
    "\n",
    "Rather than process individual samples, we wait for the buffer to fill so that we can process many samples at once. When the buffer is half full, an interrupt is triggered, signaling to the CPU that data is ready to be processed. In the background, samples continue being collected in the second half of the buffer so that no data is ever lost."
   ]
  },
  {
   "cell_type": "markdown",
   "id": "c25974c6-927c-4b8e-95fa-19cbd65882bb",
   "metadata": {
    "slideshow": {
     "slide_type": "slide"
    },
    "tags": []
   },
   "source": [
    "After processing is completed, the CPU can stores outputs in a second buffer which is also accessible to the DMA controller. The DMA controller feeds the data to the DAC as needed, avoiding unnecessary CPU load/store operations.\n",
    "\n",
    "If multiple channels"
   ]
  },
  {
   "cell_type": "markdown",
   "id": "f01e47f8-064a-4bde-8e39-5d085685d3a4",
   "metadata": {},
   "source": [
    "![](../img/buffer_diagram_clear.png)"
   ]
  },
  {
   "cell_type": "markdown",
   "id": "2ff0f56f-f85b-46a6-9353-5a065c0d41b0",
   "metadata": {
    "slideshow": {
     "slide_type": "slide"
    },
    "tags": []
   },
   "source": [
    "<img src=\"../_images/buffer_diagram_clear.png\"  height=\"100\" width=\"200\">"
   ]
  }
 ],
 "metadata": {
  "kernelspec": {
   "display_name": "Python 3 (ipykernel)",
   "language": "python",
   "name": "python3"
  },
  "language_info": {
   "codemirror_mode": {
    "name": "ipython",
    "version": 3
   },
   "file_extension": ".py",
   "mimetype": "text/x-python",
   "name": "python",
   "nbconvert_exporter": "python",
   "pygments_lexer": "ipython3",
   "version": "3.10.1"
  }
 },
 "nbformat": 4,
 "nbformat_minor": 5
}
