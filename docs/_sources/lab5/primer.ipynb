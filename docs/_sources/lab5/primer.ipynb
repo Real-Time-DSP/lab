{
 "cells": [
  {
   "cell_type": "markdown",
   "id": "aa68fff6-8958-4824-b29d-c5c923654c96",
   "metadata": {
    "tags": [
     "remove-nb-cell"
    ]
   },
   "source": [
    "# Lab 5 Primer\n",
    "\n",
    "[Slides](https://real-time-dsp.github.io/lab/lab5/primer.slides.html)\n",
    "\n",
    "The range of complexity for a pulse amplitude modulation (PAM) transceiver system can vary drastically. A working version that demonstrates the core principles can be simulated with just a few lines of code. In practice, many additional subsystems need to be added for reliable operation.\n",
    "\n",
    "## Simulation\n",
    "\n",
    "In simulation, pulse amplitude modulation is relatively straightforward, and can be achieved with just a handful steps."
   ]
  },
  {
   "cell_type": "markdown",
   "id": "2ea34fa9-1ff0-46ae-b27d-6e91a99e3b18",
   "metadata": {
    "slideshow": {
     "slide_type": "slide"
    },
    "tags": [
     "remove-cell"
    ]
   },
   "source": [
    "# Week 1"
   ]
  },
  {
   "cell_type": "markdown",
   "id": "e345a957-f401-4d4a-8ed4-a74c661e4151",
   "metadata": {
    "slideshow": {
     "slide_type": "slide"
    },
    "tags": []
   },
   "source": [
    "### Mapping data to pulses"
   ]
  },
  {
   "cell_type": "markdown",
   "id": "73ee76a1-de71-4bef-9f99-a76bf1762de8",
   "metadata": {
    "tags": [
     "remove-nb-cell"
    ]
   },
   "source": [
    "The first step in any digital communication system is [serialization](https://en.wikipedia.org/wiki/Serialization), the process of converting a useful data structure into a stream of bits. For example, the following MATLAB code serializes the ascii string \"meatball\" into an array of 56 bits."
   ]
  },
  {
   "cell_type": "markdown",
   "id": "8a0b02e3-f6f2-4d0a-985f-5885eccef308",
   "metadata": {},
   "source": [
    "```matlab\n",
    ">> serialized_data = reshape((dec2bin(uint8('meatball'))'),[1,56])\n",
    "\n",
    "serialized_data =\n",
    "\n",
    "    '11011011100101110000111101001100010110000111011001101100'\n",
    "\n",
    "```"
   ]
  },
  {
   "cell_type": "markdown",
   "id": "3c4ac515-4fc0-494f-9a0c-c4fb8bd758aa",
   "metadata": {
    "tags": [
     "remove-nb-cell"
    ]
   },
   "source": [
    "In 2-PAM, we map a bit of '0' to a pulse with an amplitude $-d$ and a bit of one to a pulse with an amplitude of $+d$. A common pulse shape is the [raised cosine](https://en.wikipedia.org/wiki/Raised-cosine_filter)"
   ]
  },
  {
   "cell_type": "markdown",
   "id": "08ffb39e-aeba-4547-8743-ec1d07722e2e",
   "metadata": {},
   "source": [
    "```matlab\n",
    "upsampled_data = upsample(str2num(serialized_data')*2-1,16);\n",
    "pulse_shaping_filter = rcosdesign(0.8,4,16,'normal');\n",
    "sequence_of_pulses = conv(upsampled_data,pulse_shaping_filter,'same')\n",
    "figure; plot(sequence_of_pulses); hold on; stem(upsampled_data.*max(pulse_shaping_filter));\n",
    "\n",
    "```"
   ]
  },
  {
   "cell_type": "markdown",
   "id": "547f13c3-8ef6-4343-af7f-9f659413e9e4",
   "metadata": {
    "tags": [
     "remove-nb-cell"
    ]
   },
   "source": [
    "![](../img/pulses.svg)"
   ]
  },
  {
   "cell_type": "markdown",
   "id": "3aa1cfb1-e8e9-47f3-ad6f-090efae21145",
   "metadata": {
    "tags": [
     "remove-cell"
    ]
   },
   "source": [
    "<p style=\"text-align:center;\">\n",
    "<img src=\"../_images/pulses.svg\" width=900 height=900 class=\"center\">\n",
    "</p>"
   ]
  },
  {
   "cell_type": "markdown",
   "id": "614b0e9c-f1c0-46f7-bebb-db74ec106817",
   "metadata": {
    "slideshow": {
     "slide_type": "slide"
    },
    "tags": []
   },
   "source": [
    "#### Polyphase filter bank for pulse shaping"
   ]
  },
  {
   "cell_type": "markdown",
   "id": "de904694-a36c-41fe-8da1-35930f4cb32c",
   "metadata": {
    "tags": [
     "remove-nb-cell"
    ]
   },
   "source": [
    "Recall that we upsampled the data by a factor of $L$ before applying the pulse shaping filter. Using the standard FIR filter structure, this would mean that a large fraction, $\\frac{L-1}{L}$, of the multiply-accumulate operations used in the filter are wasted on zeros! The polyphase filterbank structure solves this problem."
   ]
  },
  {
   "cell_type": "markdown",
   "id": "a619efa7-93a5-477d-81ca-c99c562f7bff",
   "metadata": {
    "tags": [
     "remove-nb-cell"
    ]
   },
   "source": [
    "![](../img/polyphase_filter_bank.svg)"
   ]
  },
  {
   "cell_type": "markdown",
   "id": "f44d976c-2472-4c5f-85ed-ef73c63ada57",
   "metadata": {
    "tags": [
     "remove-cell"
    ]
   },
   "source": [
    "<p style=\"text-align:center;\">\n",
    "<img src=\"../_images/polyphase_filter_bank.svg\" width=900 height=900 class=\"center\">\n",
    "</p>"
   ]
  },
  {
   "cell_type": "markdown",
   "id": "47946a88-18a4-4ae4-85ad-f0504f3147da",
   "metadata": {
    "tags": [
     "remove-nb-cell"
    ]
   },
   "source": [
    "The diagram above depicts the polyphase structure to implement an 8-tap FIR filter with impulse response $g[n]$ after upsampling by a factor of $L=4$. The filter coefficients $g[n]$ are divided into $L$ smaller filters of length $\\frac{8}{L}=2$. Even though the upsampling operation quadrupled the sampling rate of the output, these smaller filters are allowed to run at the original rate, reducing the computational cost by a factor of roughly $L=4$. By allowing the commutator the cycle through these four smaller filters, we produce the same output signal as if we had upsampled first, then applied an FIR filter at a higher rate."
   ]
  },
  {
   "cell_type": "markdown",
   "id": "9c9af665-fcc6-4bdd-86da-3587b83404f5",
   "metadata": {
    "slideshow": {
     "slide_type": "slide"
    },
    "tags": []
   },
   "source": [
    "### Modulation"
   ]
  },
  {
   "cell_type": "markdown",
   "id": "3e8a09c0-2c09-4e9d-b2f8-1ed2ae29d999",
   "metadata": {
    "tags": [
     "remove-nb-cell"
    ]
   },
   "source": [
    "The signal above is what we call the [baseband](https://en.wikipedia.org/wiki/Baseband) signal. Before transmitting, we want shift the spectrum to higher frequencies in a way that can be reversed at the transmitter. A simple method is with sinusoidal modulation and demodulation"
   ]
  },
  {
   "cell_type": "markdown",
   "id": "7717cdae-6f19-458d-a54f-b98ab6feb562",
   "metadata": {},
   "source": [
    "```\n",
    "f0 = 12000; fs = 48000; w0 = 2*pi*f0/fs; n = 1:length(sequence_of_pulses);\n",
    "modulated = sequence_of_pulses.' .* cos(w0*n);\n",
    "figure; plot(sequence_of_pulses); hold on; plot(modulated);\n",
    "```"
   ]
  },
  {
   "cell_type": "markdown",
   "id": "5574bf15-a197-4571-a749-1c091f5293d2",
   "metadata": {
    "tags": [
     "remove-nb-cell"
    ]
   },
   "source": [
    "![](../img/modulated.svg)"
   ]
  },
  {
   "cell_type": "markdown",
   "id": "cdad430e-2b13-4505-8504-87e0391680f5",
   "metadata": {
    "tags": [
     "remove-cell"
    ]
   },
   "source": [
    "<p style=\"text-align:center;\">\n",
    "<img src=\"../_images/modulated.svg\" width=900 height=900 class=\"center\">\n",
    "</p>"
   ]
  },
  {
   "cell_type": "markdown",
   "id": "df971886-224d-4b71-b939-b27dfbcd9f85",
   "metadata": {
    "slideshow": {
     "slide_type": "slide"
    },
    "tags": []
   },
   "source": [
    "### Demodulation"
   ]
  },
  {
   "cell_type": "markdown",
   "id": "0c34b8b3-1a84-4dfd-8c6b-8accef6072d7",
   "metadata": {
    "tags": [
     "remove-nb-cell"
    ]
   },
   "source": [
    "Demodulation can be achieved by once again multiplying by the carrier. The second multiplication by cosine introduces frequency components at $\\pm f_c$, which can be removed by a low pass filter."
   ]
  },
  {
   "cell_type": "markdown",
   "id": "5ac2e660-2014-41c7-bb71-44dcaac88b36",
   "metadata": {},
   "source": [
    "```\n",
    "demodulated = modulated .* cos(w0*n);\n",
    "recovered_pulses = conv(demodulated,pulse_shaping_filter,'same');\n",
    "figure; plot(sequence_of_pulses); hold on; plot(recovered_pulses);\n",
    "```"
   ]
  },
  {
   "cell_type": "markdown",
   "id": "218c4201-0a79-4941-a605-7f1b09c34e80",
   "metadata": {
    "tags": [
     "remove-nb-cell"
    ]
   },
   "source": [
    "![](../img/matched_filter.svg)"
   ]
  },
  {
   "cell_type": "markdown",
   "id": "00bc3999-77ed-4beb-966b-256e530f6c1c",
   "metadata": {
    "tags": [
     "remove-cell"
    ]
   },
   "source": [
    "<p style=\"text-align:center;\">\n",
    "<img src=\"../_images/matched_filter.svg\" width=900 height=900 class=\"center\">\n",
    "</p>"
   ]
  },
  {
   "cell_type": "markdown",
   "id": "28cca4fb-1bbc-42be-886b-48f37dec1432",
   "metadata": {
    "slideshow": {
     "slide_type": "slide"
    },
    "tags": []
   },
   "source": [
    "### Mapping pulses to data"
   ]
  },
  {
   "cell_type": "markdown",
   "id": "b06ebb9a-7fa0-4b43-8805-e4a7c43336ac",
   "metadata": {
    "tags": [
     "remove-nb-cell"
    ]
   },
   "source": [
    "We end up with a signal that can be downsampled and quantized to recover the original data."
   ]
  },
  {
   "cell_type": "markdown",
   "id": "29056807-2cad-41bd-9d55-997f88aac54e",
   "metadata": {},
   "source": [
    "```\n",
    ">> recovered_data = downsample(recovered_pulses,16) > 0\n",
    "\n",
    "recovered_data =\n",
    "\n",
    "    '11011011100101110000111101001100010110000111011001101100'\n",
    "```"
   ]
  },
  {
   "cell_type": "markdown",
   "id": "09320289-cf74-4fce-a024-aab2d63618fd",
   "metadata": {
    "slideshow": {
     "slide_type": "slide"
    },
    "tags": [
     "remove-cell"
    ]
   },
   "source": [
    "# Week 2"
   ]
  },
  {
   "cell_type": "markdown",
   "id": "0abb2515-a2e2-4480-a0b0-e183e82fab39",
   "metadata": {
    "tags": [
     "remove-nb-cell"
    ]
   },
   "source": [
    "### Receiver"
   ]
  },
  {
   "cell_type": "markdown",
   "id": "b1e49f16-d4f1-48e8-848b-d31996a284f6",
   "metadata": {
    "tags": [
     "remove-nb-cell"
    ]
   },
   "source": [
    "The receiver is where most of complexities occur. In the simulation above, we assumed that the receiver's carrier exactly matches the transmitter (both in frequency and phase). We assumed that the signal traveled from transmitter to receiver with no distortion or time delay. We also assumed that the transmitter and receiver have exactly the same sampling rates so that every symbol was separated by exactly 16 samples. Though these assumptions are rarely true in practice, each type of error can be addressed by adding an appropriate subsystem."
   ]
  },
  {
   "cell_type": "markdown",
   "id": "ad2d3427-8c2d-4850-959f-971d758348bc",
   "metadata": {
    "slideshow": {
     "slide_type": "slide"
    },
    "tags": []
   },
   "source": [
    "#### Costas loop for carrier recovery"
   ]
  },
  {
   "cell_type": "markdown",
   "id": "538dfb6b-b153-45ad-a2dd-6edd6c9da444",
   "metadata": {
    "tags": [
     "remove-nb-cell"
    ]
   },
   "source": [
    "The [Costas loop](https://en.wikipedia.org/wiki/Costas_loop) is one way to track the phase $\\theta$ using an iterative algorithm. When processing the $k$th sample at the receiver, the Costas loop produces the next phase estimate $\\theta[k+1]$ based on the following rule:"
   ]
  },
  {
   "cell_type": "markdown",
   "id": "7afbe904-5ff9-466f-93e7-4b31806ea540",
   "metadata": {
    "tags": []
   },
   "source": [
    "$$ \\theta[k+1] =  \\theta[k] - \\mu \\text{LPF} \\left\\{ r[k] \\cos(\\omega_0 k + \\theta[k])  \\right\\} \\times \\text{LPF} \\left\\{ r[k] \\sin(\\omega_0 k + \\theta[k])  \\right\\}$$"
   ]
  },
  {
   "cell_type": "markdown",
   "id": "fd868a6e-616e-4bdb-94fe-7b2f4f8f3bf1",
   "metadata": {
    "tags": [
     "remove-nb-cell"
    ]
   },
   "source": [
    "where $r[k]$ is the received signal and $w_0$ is the carrier frequency.\n",
    "\n",
    "For an in-depth discussion of the Costas loop, see *Software Receiver Design* by C. Richard Johnson, Jr., William A. Sethares and Andrew Klein, section 10.4."
   ]
  },
  {
   "cell_type": "markdown",
   "id": "2d0ed012-14f0-497f-a87f-687eab4c025b",
   "metadata": {
    "tags": [
     "remove-nb-cell"
    ]
   },
   "source": [
    "![](../img/costas.svg)"
   ]
  },
  {
   "cell_type": "markdown",
   "id": "6bd89c4d-a909-4a95-bbe2-07e194ffff0f",
   "metadata": {
    "tags": [
     "remove-cell"
    ]
   },
   "source": [
    "<p style=\"text-align:center;\">\n",
    "<img src=\"../_images/costas.svg\" width=900 height=900 class=\"center\">\n",
    "</p>"
   ]
  },
  {
   "cell_type": "markdown",
   "id": "ed405ddb-1310-4b04-8d47-c1bb2b54b853",
   "metadata": {
    "slideshow": {
     "slide_type": "slide"
    },
    "tags": [
     "remove-cell"
    ]
   },
   "source": [
    "# Week 3"
   ]
  },
  {
   "cell_type": "markdown",
   "id": "ff6090ff-744f-4d7b-8f06-8ca98cf0dfdc",
   "metadata": {
    "slideshow": {
     "slide_type": "slide"
    },
    "tags": []
   },
   "source": [
    "## Symbol Clock Recovery"
   ]
  },
  {
   "cell_type": "markdown",
   "id": "12037466-cd00-4e98-960a-d0789dde0f9d",
   "metadata": {
    "tags": [
     "remove-nb-cell"
    ]
   },
   "source": [
    "The carrier recovery process will correct a frequency offset so that the signal can be properly demodulated.\n",
    "\n",
    "The demodulated signal is downsampled and quantized to produce a stream of bits at the receiver. This process is sensitive to any timing offset. For example, the red and black stem plots show two possible ways that the demodulated signal might be downsampled. In one case (red), the values are recovered exactly. In the other case (black) many of the samples are close to zero and might easily be overwhelmed by noise.\n",
    "\n",
    "A symbol clock recovery subsystem should adapt the sampling times to minimize errors."
   ]
  },
  {
   "cell_type": "markdown",
   "id": "8f44151f-1acf-4f25-bba7-cbc45fabb385",
   "metadata": {
    "tags": [
     "remove-nb-cell"
    ]
   },
   "source": [
    "![](../img/timing_offset.svg)"
   ]
  },
  {
   "cell_type": "markdown",
   "id": "f8f50fec-a329-45f4-a00d-7949b96c6fca",
   "metadata": {
    "tags": [
     "remove-cell"
    ]
   },
   "source": [
    "<p style=\"text-align:center;\">\n",
    "<img src=\"../_images/timing_offset.svg\" width=900 height=900 class=\"center\">\n",
    "</p>"
   ]
  },
  {
   "cell_type": "markdown",
   "id": "6ef74a32-e85d-4f71-8205-9c9b85d02e86",
   "metadata": {
    "slideshow": {
     "slide_type": "slide"
    },
    "tags": []
   },
   "source": [
    "## Symbol Clock Recovery"
   ]
  },
  {
   "cell_type": "markdown",
   "id": "e9f2086d-5e37-4154-91e5-8005b7c25190",
   "metadata": {
    "tags": [
     "remove-nb-cell"
    ]
   },
   "source": [
    "One simple clock recovery method consists of two bandpass filters and a squaring block."
   ]
  },
  {
   "cell_type": "markdown",
   "id": "585022e8-a0a8-466f-8135-41eca8845c3e",
   "metadata": {
    "tags": [
     "remove-nb-cell"
    ]
   },
   "source": [
    "![](../img/symbol_clock_recovery.svg)"
   ]
  },
  {
   "cell_type": "markdown",
   "id": "73850ad1-0f17-4b1e-8902-c17b5540d4c9",
   "metadata": {
    "tags": [
     "remove-cell"
    ]
   },
   "source": [
    "<p style=\"text-align:center;\">\n",
    "<img src=\"../_images/symbol_clock_recovery.svg\" width=900 height=900 class=\"center\">\n",
    "</p>"
   ]
  },
  {
   "cell_type": "markdown",
   "id": "c1d74482-59d8-45c7-8658-36ee3345bc86",
   "metadata": {
    "tags": [
     "remove-nb-cell"
    ]
   },
   "source": [
    "The first bandpass filter passes any oscillations that occur at a rate $f_{sym}/2$, which is the highest frequency that can occur in the baseband signal. Squaring the result will double the frequency. The second bandpass filter will then produce an estimate of the symbol clock."
   ]
  },
  {
   "cell_type": "markdown",
   "id": "42e3a27a-3443-4233-b643-825762052f03",
   "metadata": {
    "slideshow": {
     "slide_type": "slide"
    },
    "tags": [
     "remove-cell"
    ]
   },
   "source": [
    "## Symbol Clock Recovery"
   ]
  },
  {
   "cell_type": "markdown",
   "id": "d738a9c3-0d11-4f11-81d1-78ef4bafbe02",
   "metadata": {
    "tags": [
     "remove-nb-cell"
    ]
   },
   "source": [
    "![](../img/BPF_square_BPF.svg)"
   ]
  },
  {
   "cell_type": "markdown",
   "id": "3e87969e-9899-4981-9b2c-a1dff4756202",
   "metadata": {
    "tags": [
     "remove-cell"
    ]
   },
   "source": [
    "<p style=\"text-align:center;\">\n",
    "<img src=\"../_images/BPF_square_BPF.svg\" width=900 height=900 class=\"center\">\n",
    "</p>"
   ]
  },
  {
   "cell_type": "markdown",
   "id": "87b9152f-3e3c-42b8-94bc-4764375c9695",
   "metadata": {
    "slideshow": {
     "slide_type": "slide"
    },
    "tags": []
   },
   "source": [
    "## Error probability"
   ]
  },
  {
   "cell_type": "markdown",
   "id": "a2796df6-bc65-4470-b98a-d8d934642f22",
   "metadata": {
    "tags": [
     "remove-nb-cell"
    ]
   },
   "source": [
    "It is common to model each sample of noise an independent draw from Gaussian distribution with variance $\\sigma^2$.\n",
    "\n",
    "As the noise variance increases, it is more likely that a symbol is incorrectly decoded. However, as the symbol spacing $A$ increases, a larger amount of noise is required to cause a bit error.\n",
    "\n",
    "As a result, the bit error probability will depend on the ratio $A/\\sigma$. Since the signal power is proportional to $A^2$ and the noise power is $\\sigma^2$, this can be expressed as"
   ]
  },
  {
   "cell_type": "markdown",
   "id": "e2a7ea58-7590-45ae-84b4-66e41a303a4e",
   "metadata": {},
   "source": [
    "$$\\frac A \\sigma = \\sqrt{\\frac{A^2}{\\sigma ^2}} = \\sqrt{\\text{SNR}}$$"
   ]
  },
  {
   "cell_type": "markdown",
   "id": "2e035f2a-aead-40d8-99cd-1d41c7219ee2",
   "metadata": {
    "tags": [
     "remove-nb-cell"
    ]
   },
   "source": [
    "![](../img/error_probability.svg)"
   ]
  },
  {
   "cell_type": "markdown",
   "id": "eb2c7ea7-c794-4e89-a404-a5a54c5b9025",
   "metadata": {
    "tags": [
     "remove-cell"
    ]
   },
   "source": [
    "<p style=\"text-align:center;\">\n",
    "<img src=\"../_images/error_probability.svg\" width=900 height=900 class=\"center\">\n",
    "</p>"
   ]
  },
  {
   "cell_type": "markdown",
   "id": "5e8df234-32e7-4073-940a-c122e3bc81fb",
   "metadata": {
    "slideshow": {
     "slide_type": "slide"
    },
    "tags": [
     "remove-nb-cell"
    ]
   },
   "source": [
    "#### Power maximization for timing recovery"
   ]
  },
  {
   "cell_type": "markdown",
   "id": "ff92c763-1305-4941-8d72-343f53b37ed1",
   "metadata": {
    "tags": [
     "remove-nb-cell"
    ]
   },
   "source": [
    "For an in-depth discussion of timing recovery via output power maximization, see *Software Receiver Design* by C. Richard Johnson, Jr., William A. Sethares and Andrew Klein, section 12.4."
   ]
  }
 ],
 "metadata": {
  "kernelspec": {
   "display_name": "Python 3 (ipykernel)",
   "language": "python",
   "name": "python3"
  },
  "language_info": {
   "codemirror_mode": {
    "name": "ipython",
    "version": 3
   },
   "file_extension": ".py",
   "mimetype": "text/x-python",
   "name": "python",
   "nbconvert_exporter": "python",
   "pygments_lexer": "ipython3",
   "version": "3.10.2"
  }
 },
 "nbformat": 4,
 "nbformat_minor": 5
}
