{
 "cells": [
  {
   "cell_type": "markdown",
   "id": "8376dde5-688a-4d0f-af02-1e6e6b435651",
   "metadata": {
    "tags": [
     "remove-nb-cell"
    ]
   },
   "source": [
    "# Lab 6 Primer\n",
    "\n",
    "[Slides](https://real-time-dsp.github.io/lab/lab6/primer.slides.html)\n",
    "\n",
    "Most modern digital communication systems, including standards like 802.11 (WiFi), use quadrature amplitude modulation (QAM). In contrast to PAM, which only encodes information in the amplitude, QAM additionally makes use of the phase."
   ]
  },
  {
   "cell_type": "markdown",
   "id": "8fcf9e08-d1d0-4523-becf-208ed15e2588",
   "metadata": {
    "tags": [
     "remove-nb-cell"
    ]
   },
   "source": [
    "To understand QAM, let us revisit the modulation component of PAM. This time, we will look at the transmission of a single ASCII character 'm'.\n",
    "\n",
    "```\n",
    ">> serialized_data = reshape((dec2bin(uint8('m'))'),[1,7])\n",
    "\n",
    "serialized_data =\n",
    "\n",
    "    '1101101'\n",
    "```\n",
    "\n",
    "```\n",
    "upsampled_data = upsample(str2num(serialized_data')*2-1,16);\n",
    "pulse_shaping_filter = rcosdesign(0.8,4,16,'normal');\n",
    "sequence_of_pulses = conv(upsampled_data,pulse_shaping_filter,'same')\n",
    "figure; plot(sequence_of_pulses); hold on; stem(upsampled_data.*max(pulse_shaping_filter));\n",
    "```"
   ]
  },
  {
   "cell_type": "markdown",
   "id": "858b893e-c974-459d-98a7-3fe46d12af25",
   "metadata": {
    "slideshow": {
     "slide_type": "slide"
    },
    "tags": [
     "remove-cell"
    ]
   },
   "source": [
    "## Quadrature Amplitude Modulation (QAM)"
   ]
  },
  {
   "cell_type": "markdown",
   "id": "892d7b5c-9172-4099-9649-e4958468da8c",
   "metadata": {
    "tags": [
     "remove-nb-cell"
    ]
   },
   "source": [
    "![](../img/ASCII_m_pulses.svg)"
   ]
  },
  {
   "cell_type": "markdown",
   "id": "095f3263-68f7-47d4-8dd9-83c1a62862cd",
   "metadata": {
    "slideshow": {
     "slide_type": "slide"
    },
    "tags": [
     "remove-cell"
    ]
   },
   "source": [
    "## Baseband\n",
    "\n",
    "<p style=\"text-align:center;\">\n",
    "<img src=\"../_images/ASCII_m_pulses.svg\" width=900 height=900 class=\"center\">\n",
    "</p>"
   ]
  },
  {
   "cell_type": "markdown",
   "id": "7db11bba-5c54-469c-a403-74c5a55f32ae",
   "metadata": {
    "tags": [
     "remove-nb-cell"
    ]
   },
   "source": [
    "Recall that in lab 5, the sequence of pulses was multiplied by a cosine. In particular, we used a cosine whose frequency was one quarter the sampling frequency.\n",
    "\n",
    "```\n",
    "f0 = 12000; fs = 48000; w0 = 2*pi*f0/fs; n = 1:length(sequence_of_pulses);\n",
    "modulated = sequence_of_pulses.' .* cos(w0*n);\n",
    "figure; plot(sequence_of_pulses); hold on; stem(modulated);\n",
    "```"
   ]
  },
  {
   "cell_type": "markdown",
   "id": "66856bc8-d22f-4d46-9f4d-ea0505fc9b3f",
   "metadata": {
    "tags": [
     "remove-nb-cell"
    ]
   },
   "source": [
    "![](../img/ASCII_m_cos.svg)"
   ]
  },
  {
   "cell_type": "markdown",
   "id": "8a7f971b-ca35-4ef2-8636-5b02e4eeb5bd",
   "metadata": {
    "slideshow": {
     "slide_type": "slide"
    },
    "tags": [
     "remove-cell"
    ]
   },
   "source": [
    "## Cosine modulation\n",
    "\n",
    "<p style=\"text-align:center;\">\n",
    "<img src=\"../_images/ASCII_m_cos.svg\" width=900 height=900 class=\"center\">\n",
    "</p>"
   ]
  },
  {
   "cell_type": "markdown",
   "id": "d5d39bf2-88a2-41a2-96b4-ebd7ba6ea52a",
   "metadata": {
    "tags": [
     "remove-nb-cell"
    ]
   },
   "source": [
    "Notice that every other sample is zero. What if we had used a sine instead?"
   ]
  },
  {
   "cell_type": "markdown",
   "id": "9729018e-d799-4b2d-aee0-82ee1a7f9470",
   "metadata": {
    "tags": [
     "remove-nb-cell"
    ]
   },
   "source": [
    "![](../img/ASCII_m_sin.svg)"
   ]
  },
  {
   "cell_type": "markdown",
   "id": "50cbddd2-2b61-4ba1-a62a-34fa8a8f0457",
   "metadata": {
    "tags": [
     "remove-cell"
    ]
   },
   "source": [
    "## Sine modulation\n",
    "\n",
    "<p style=\"text-align:center;\">\n",
    "<img src=\"../_images/ASCII_m_sin.svg\" width=900 height=900 class=\"center\">\n",
    "</p>"
   ]
  },
  {
   "cell_type": "markdown",
   "id": "cab7277d-9b20-4826-9f30-695ca369dde8",
   "metadata": {
    "tags": [
     "remove-nb-cell"
    ]
   },
   "source": [
    "Whenever the cosine is nonzero, the sine is zero, and whenever the sine is nonzero, the cosine is zero. This simple observation relates to an important fact that [sines and cosines form an orthonormal set](https://en.wikipedia.org/wiki/Fourier_series#Hilbert_space_interpretation).\n",
    "\n",
    "We can exploit this by modulating one stream of data with a cosine, modulating a second stream with a sine, and adding them together. Let's assume that 'm' will be modulated by a cosine and our second stream of data is the ASCII character 'e', which will me modulated by a sine."
   ]
  },
  {
   "cell_type": "markdown",
   "id": "163a03c0-d596-4bf2-9134-ddf12e63a8f8",
   "metadata": {
    "tags": [
     "remove-nb-cell"
    ]
   },
   "source": [
    "![](../img/ASCII_me_QAM.svg)"
   ]
  },
  {
   "cell_type": "markdown",
   "id": "0fcc59fa-13af-4034-8b00-6635a9ddffa6",
   "metadata": {
    "slideshow": {
     "slide_type": "slide"
    },
    "tags": [
     "remove-cell"
    ]
   },
   "source": [
    "## QAM\n",
    "\n",
    "<p style=\"text-align:center;\">\n",
    "<img src=\"../_images/ASCII_me_QAM.svg\" width=900 height=900 class=\"center\">\n",
    "</p>"
   ]
  },
  {
   "cell_type": "markdown",
   "id": "fdc24fc8-0dfb-44cc-a950-07d3cbb7ca43",
   "metadata": {
    "tags": [
     "remove-nb-cell"
    ]
   },
   "source": [
    "If we look closely at these two signals, we see why QAM works. Normally, when we add two signals together, it is very difficult to separate them. It is only because of the orthogonality of sine and cosine that we can easily separate the two components at the receiver. This lets us transmit twice as much data without increasing the bandwidth or symbol rate."
   ]
  }
 ],
 "metadata": {
  "kernelspec": {
   "display_name": "Python 3 (ipykernel)",
   "language": "python",
   "name": "python3"
  },
  "language_info": {
   "codemirror_mode": {
    "name": "ipython",
    "version": 3
   },
   "file_extension": ".py",
   "mimetype": "text/x-python",
   "name": "python",
   "nbconvert_exporter": "python",
   "pygments_lexer": "ipython3",
   "version": "3.10.2"
  }
 },
 "nbformat": 4,
 "nbformat_minor": 5
}
