{
 "cells": [
  {
   "cell_type": "markdown",
   "id": "267e4f8c-85dd-4f36-9ee4-0462952afe5d",
   "metadata": {
    "slideshow": {
     "slide_type": "notes"
    },
    "tags": [
     "remove-nb-cell"
    ]
   },
   "source": [
    "# Lab 3 Primer \n",
    "\n",
    "[Slides](https://real-time-dsp.github.io/lab/lab3/primer.slides.html)\n",
    "\n",
    "Digital filters have several benefits compared to their analog counterparts\n",
    "\n",
    "* Design can be modified/tuned with software changes only\n",
    "* Exact initial conditions can be enforced\n",
    "* Scale to extremely high order\n",
    "* Can be designed for perfectly linear phase\n",
    "\n",
    "Digital filters are used in a plethora of applications. To name a few,\n",
    "\n",
    "* Speech and audio\n",
    "* Image, video, and computer vision\n",
    "* Sonar, radar, and medical imaging\n",
    "* Digital communication (wifi, cellular, etc)"
   ]
  },
  {
   "cell_type": "markdown",
   "id": "f0d049e2-deb4-4984-9d0d-70e88ae62947",
   "metadata": {
    "slideshow": {
     "slide_type": "slide"
    },
    "tags": []
   },
   "source": [
    "## Review of LTI systems and filters\n",
    "\n",
    "* [Mathematical definitions](https://realtimedsp.net/handouts/LTI_systems_filters.html#mathematical-definitions)\n",
    "* [Impulse response and convolution](https://realtimedsp.net/handouts/LTI_systems_filters.html#impulse-response-and-convolution)\n",
    "* [Frequency response](https://realtimedsp.net/handouts/LTI_systems_filters.html#frequency-response)\n",
    "* [Magnitude and phase response](https://realtimedsp.net/handouts/LTI_systems_filters.html#magnitude-and-phase-response)\n",
    "* [Frequency Selectivity](https://realtimedsp.net/handouts/LTI_systems_filters.html#frequency-selectivity)"
   ]
  },
  {
   "cell_type": "markdown",
   "id": "a782bb6e-a8c3-46ae-95a4-803612f0d0d9",
   "metadata": {
    "slideshow": {
     "slide_type": "slide"
    },
    "tags": []
   },
   "source": [
    "## Finite impulse response (FIR) filters\n",
    "\n",
    "For a causal discrete-time FIR filter, each output sample $y[n]$ is computed by taking the inner product of the input samples $x[n]$ with the filter coefficients $b[n]$.\n",
    "\n",
    "$$ y[n] = \\sum_{m=0}^{N}{x[n-m]b[m]} $$\n",
    "\n",
    "This is often visualized as a 'tapped delay line'"
   ]
  },
  {
   "cell_type": "markdown",
   "id": "8b483fa7-c593-4ace-b5c4-94c20c898c19",
   "metadata": {
    "slideshow": {
     "slide_type": "slide"
    },
    "tags": [
     "remove-nb-cell"
    ]
   },
   "source": [
    "![](../img/tapped_delay.svg)"
   ]
  },
  {
   "cell_type": "markdown",
   "id": "399ac7b6-8345-477e-a312-384c2ed32661",
   "metadata": {
    "slideshow": {
     "slide_type": "slide"
    },
    "tags": [
     "remove-cell"
    ]
   },
   "source": [
    "<p style=\"text-align:center;\">\n",
    "<img src=\"../_images/tapped_delay.svg\" width=900 height=900 class=\"center\">\n",
    "</p>"
   ]
  },
  {
   "cell_type": "markdown",
   "id": "dd6ccfdb-12f6-42b3-9504-caea3826cc73",
   "metadata": {
    "slideshow": {
     "slide_type": "slide"
    },
    "tags": []
   },
   "source": [
    "## FIR filter design\n",
    "\n",
    "For typical frequency selective filters, the design goals are threefold\n",
    "\n",
    "* Minimize distortion of the signal in the passband(s)\n",
    "* Attenuate the stopband as much as possible\n",
    "* Keep the order of the filter low"
   ]
  },
  {
   "cell_type": "markdown",
   "id": "2fbdfcde-7a3d-4531-be1e-220dc04729be",
   "metadata": {
    "tags": [
     "remove-nb-cell"
    ]
   },
   "source": [
    "As an example, consider the design of a bandpass filter. Ideally, the passband would have a gain of 0 dB and the two stopbands would have a gain of $-\\infty$ dB. However, we know that such an ideal filter would require infinite delay. In practice, we tolerate some amount of distortion in the passband and accept a small amount of leakage through the stopband. This leads to two important design tradeoffs:\n",
    "\n",
    "* Better frequency selectivity vs lower delay\n",
    "* Performance in the passband(s) vs performance in the stopband(s)"
   ]
  },
  {
   "cell_type": "markdown",
   "id": "beabd09b-9a6b-414f-9015-6aef9e2d8477",
   "metadata": {
    "slideshow": {
     "slide_type": "slide"
    },
    "tags": [
     "remove-nb-cell"
    ]
   },
   "source": [
    "![](../img/bandpass.svg)"
   ]
  },
  {
   "cell_type": "markdown",
   "id": "a3b745ec-b537-4918-baad-ca4f5392dfee",
   "metadata": {
    "slideshow": {
     "slide_type": "slide"
    },
    "tags": [
     "remove-cell"
    ]
   },
   "source": [
    "<p style=\"text-align:center;\">\n",
    "<img src=\"../_images/bandpass.svg\" width=900 height=900 class=\"center\">\n",
    "</p>"
   ]
  },
  {
   "cell_type": "markdown",
   "id": "b9c462fc-ccdc-47a1-b5e6-f489418f5c4d",
   "metadata": {
    "tags": [
     "remove-nb-cell"
    ]
   },
   "source": [
    "The [Parks-McClellan algorithm](https://en.wikipedia.org/wiki/Parks–McClellan_filter_design_algorithm) (aka equiripple) produces a set of filter coefficients that is optimal in the sense that it minimizes the worst deviation between the actual response and the desired response. When using this method, we have control over several parameters:"
   ]
  },
  {
   "cell_type": "markdown",
   "id": "9a601d5f-acc4-4a65-aec7-63972b4921a0",
   "metadata": {
    "slideshow": {
     "slide_type": "slide"
    },
    "tags": []
   },
   "source": [
    "* Filter order $N$\n",
    "  * Lower order will provide shorter delay\n",
    "  * Higher order will provide better frequency selectivity\n",
    "* Relative weights $W$\n",
    "  * Specifies how to weight each passband and stopband when computing the error that is minimized by the algorithm\n",
    "* Location of transition regions (specified by $f_{\\text{pass}_i}$ and $f_{\\text{stop}_i}$)\n",
    "  * Transition regions cause to much distortion to function as a passband but not enough attenuation to function as a stopband\n",
    "  * Smaller transition region increases the amount of usable bandwidth\n",
    "  * Larger transition region will provide better performance in the passband and stopband"
   ]
  },
  {
   "cell_type": "markdown",
   "id": "0057072e-619e-4da2-9395-c9d59ce19bfd",
   "metadata": {
    "tags": [
     "remove-nb-cell"
    ]
   },
   "source": [
    "Other FIR filter design methods include [least-squares](https://en.wikipedia.org/wiki/Filter_design#Methodology) and [window design methods](https://en.wikipedia.org/wiki/Finite_impulse_response#Window_design_method)."
   ]
  },
  {
   "cell_type": "markdown",
   "id": "8e78abbb-2b82-4d8e-9362-a1167aea6937",
   "metadata": {
    "slideshow": {
     "slide_type": "slide"
    },
    "tags": [
     "remove-cell"
    ]
   },
   "source": [
    "# Week 2"
   ]
  },
  {
   "cell_type": "markdown",
   "id": "5eff9238-b9c4-4cfe-a5d2-597fec30cea4",
   "metadata": {
    "slideshow": {
     "slide_type": "slide"
    },
    "tags": []
   },
   "source": [
    "## Frame-based processing"
   ]
  },
  {
   "cell_type": "markdown",
   "id": "ff71f990-2711-4fce-8325-159a5667b754",
   "metadata": {
    "tags": [
     "remove-nb-cell"
    ]
   },
   "source": [
    "For a real-time system, data is constantly flowing in from the ADC and out to the DAC. We can configure how many samples to collect between interrupt triggers from the ADC.\n",
    "\n",
    "In the extreme case, we can trigger an interrupt each time a new sample is available and immediately compute one output sample of the filter. alternatively, we can wait until a frame of $N_F$ samples is collected before triggering an interrupt then compute $N_F$ output samples of the filter.\n",
    "\n",
    "There are a number of advantages to a frame-based implementation:"
   ]
  },
  {
   "cell_type": "markdown",
   "id": "51ec3f2d-1d6f-4126-9b01-9f86bb0c3457",
   "metadata": {},
   "source": [
    "* Less overhead\n",
    "  * Each interrupt requires a fixed number of processor cycles $N_I$.\n",
    "  * For sample-by-sample processing, this cost is incurred for each sample\n",
    "  * For frame-based processing, this is reduced to $N_I / N_F$ per sample\n",
    "* Computational advantages\n",
    "  * Algorithms to filter $N_f$ samples can be more efficient than algorithms that operate sample-by-sample\n",
    "  * Allows use of single instruction multiple data (SIMD) operations\n",
    "* Memory advantages\n",
    "  * In some systems, large blocks of memory can be moved more efficiently.\n",
    "  * Caching may be more efficient with large frames"
   ]
  }
 ],
 "metadata": {
  "kernelspec": {
   "display_name": "Python 3 (ipykernel)",
   "language": "python",
   "name": "python3"
  },
  "language_info": {
   "codemirror_mode": {
    "name": "ipython",
    "version": 3
   },
   "file_extension": ".py",
   "mimetype": "text/x-python",
   "name": "python",
   "nbconvert_exporter": "python",
   "pygments_lexer": "ipython3",
   "version": "3.10.1"
  }
 },
 "nbformat": 4,
 "nbformat_minor": 5
}
